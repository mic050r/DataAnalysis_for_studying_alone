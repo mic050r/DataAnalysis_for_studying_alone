{
  "nbformat": 4,
  "nbformat_minor": 0,
  "metadata": {
    "colab": {
      "provenance": [],
      "authorship_tag": "ABX9TyOS5kABoBKU7qZDj67x4+Ki",
      "include_colab_link": true
    },
    "kernelspec": {
      "name": "python3",
      "display_name": "Python 3"
    },
    "language_info": {
      "name": "python"
    }
  },
  "cells": [
    {
      "cell_type": "markdown",
      "metadata": {
        "id": "view-in-github",
        "colab_type": "text"
      },
      "source": [
        "<a href=\"https://colab.research.google.com/github/mic050r/DataAnalysis_for_studying_alone/blob/main/%EC%A0%84%EC%B2%B4%EB%8F%84%EC%84%9C%EC%9D%98_%EC%AA%BD%EC%88%98%EA%B5%AC%ED%95%98%EA%B8%B0.ipynb\" target=\"_parent\"><img src=\"https://colab.research.google.com/assets/colab-badge.svg\" alt=\"Open In Colab\"/></a>"
      ]
    },
    {
      "cell_type": "code",
      "execution_count": 7,
      "metadata": {
        "id": "69VF6zoao1bz"
      },
      "outputs": [],
      "source": [
        "import requests\n",
        "from bs4 import BeautifulSoup\n",
        "\n",
        "def get_page_cnt(isbn):\n",
        "    # Yes24 도서 검색 페이지 URL\n",
        "    url = 'http://www.yes24.com/Product/Search?domain=BOOK&query={}'\n",
        "    # URL에 ISBN을 넣어 HTML 가져오기\n",
        "    r = requests.get(url.format(isbn))\n",
        "    soup = BeautifulSoup(r.text, 'html.parser')   # HTML 파싱\n",
        "    # 검색 결과에서 해당 도서를 선택\n",
        "    prd_info = soup.find('a', attrs={'class':'gd_name'})\n",
        "    if prd_info == None:\n",
        "        return ''\n",
        "    # 도서 상세 페이지를 가져오기\n",
        "    url = 'http://www.yes24.com'+prd_info['href']\n",
        "    r = requests.get(url)\n",
        "    soup = BeautifulSoup(r.text, 'html.parser')\n",
        "    # 상품 상세정보 div를 선택\n",
        "    prd_detail = soup.find('div', attrs={'id':'infoset_specific'})\n",
        "    # 테이블에 있는 tr 태그를 가져오기\n",
        "    prd_tr_list = prd_detail.find_all('tr')\n",
        "    # 쪽수가 들어 있는 th를 찾아 td에 담긴 값을 반환\n",
        "    for tr in prd_tr_list:\n",
        "        if tr.find('th').get_text() == '쪽수, 무게, 크기':\n",
        "            return tr.find('td').get_text().split()[0]\n",
        "    return ''"
      ]
    },
    {
      "cell_type": "code",
      "source": [
        "get_page_cnt(9791190090018)"
      ],
      "metadata": {
        "colab": {
          "base_uri": "https://localhost:8080/",
          "height": 35
        },
        "id": "508c1_9ipz_u",
        "outputId": "ebae6a3c-6b7d-4f10-d59c-3abfef29691f"
      },
      "execution_count": 6,
      "outputs": [
        {
          "output_type": "execute_result",
          "data": {
            "text/plain": [
              "'330쪽'"
            ],
            "application/vnd.google.colaboratory.intrinsic+json": {
              "type": "string"
            }
          },
          "metadata": {},
          "execution_count": 6
        }
      ]
    }
  ]
}